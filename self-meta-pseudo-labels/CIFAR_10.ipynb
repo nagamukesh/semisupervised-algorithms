{
  "cells": [
    {
      "cell_type": "code",
      "execution_count": null,
      "metadata": {
        "colab": {
          "base_uri": "https://localhost:8080/"
        },
        "id": "g1R_tHayHF0s",
        "outputId": "e0b49c4e-c65c-4345-c93b-f44638a8f5a9"
      },
      "outputs": [
        {
          "name": "stdout",
          "output_type": "stream",
          "text": [
            "\n",
            "Usage:   \n",
            "  pip3 <command> [options]\n",
            "\n",
            "no such option: -p\n",
            "Cloning into 'wide-resnet.pytorch'...\n",
            "remote: Enumerating objects: 124, done.\u001b[K\n",
            "remote: Counting objects: 100% (35/35), done.\u001b[K\n",
            "remote: Compressing objects: 100% (6/6), done.\u001b[K\n",
            "remote: Total 124 (delta 29), reused 29 (delta 29), pack-reused 89\u001b[K\n",
            "Receiving objects: 100% (124/124), 670.63 KiB | 5.28 MiB/s, done.\n",
            "Resolving deltas: 100% (66/66), done.\n"
          ]
        }
      ],
      "source": [
        "!pip -p install http://download.pytorch.org/whl/cu80/torch-0.1.12.post2-cp27-none-linux_x86_64.whl\n",
        "!git clone https://github.com/meliketoy/wide-resnet.pytorch\n"
      ]
    },
    {
      "cell_type": "code",
      "execution_count": null,
      "metadata": {
        "id": "KDVh_mFsHu9X"
      },
      "outputs": [],
      "source": [
        "import torchvision\n",
        "import math\n",
        "\n",
        "import numpy as np\n",
        "import sklearn\n",
        "import matplotlib.pyplot as plt\n",
        "import random as rand\n",
        "import torch\n",
        "from torchvision.datasets import CIFAR10\n",
        "from torchvision.transforms import ToTensor\n",
        "import pandas as pd\n",
        "\n",
        "import pickle\n",
        "from PIL import Image"
      ]
    },
    {
      "cell_type": "code",
      "execution_count": null,
      "metadata": {
        "colab": {
          "base_uri": "https://localhost:8080/"
        },
        "id": "Q9wyaNwiHee9",
        "outputId": "fb77ab02-ef5d-4112-ace5-14c4df1f3692"
      },
      "outputs": [
        {
          "name": "stdout",
          "output_type": "stream",
          "text": [
            "Downloading https://www.cs.toronto.edu/~kriz/cifar-10-python.tar.gz to data/cifar-10-python.tar.gz\n"
          ]
        },
        {
          "name": "stderr",
          "output_type": "stream",
          "text": [
            "100%|██████████| 170498071/170498071 [00:02<00:00, 66698378.76it/s]\n"
          ]
        },
        {
          "name": "stdout",
          "output_type": "stream",
          "text": [
            "Extracting data/cifar-10-python.tar.gz to data\n"
          ]
        }
      ],
      "source": [
        "train_data=CIFAR10(root=\"data\",train=True,download=True,transform=ToTensor())"
      ]
    },
    {
      "cell_type": "code",
      "execution_count": null,
      "metadata": {
        "colab": {
          "base_uri": "https://localhost:8080/"
        },
        "id": "mUUAkmeBHiF3",
        "outputId": "93210629-a453-4886-fc73-f189cfc7d622"
      },
      "outputs": [
        {
          "name": "stdout",
          "output_type": "stream",
          "text": [
            "Files already downloaded and verified\n"
          ]
        }
      ],
      "source": [
        "test_data = CIFAR10(root=\"data\",train=False,download=True,transform=ToTensor())"
      ]
    },
    {
      "cell_type": "code",
      "execution_count": null,
      "metadata": {
        "colab": {
          "base_uri": "https://localhost:8080/"
        },
        "id": "Bw77wcpjN6or",
        "outputId": "8c1a41f3-2f93-43bd-8664-5fda07110825"
      },
      "outputs": [
        {
          "name": "stdout",
          "output_type": "stream",
          "text": [
            "['readme.html', 'batches.meta', 'data_batch_2', 'data_batch_5', 'test_batch', 'data_batch_3', 'data_batch_4', 'data_batch_1']\n"
          ]
        }
      ],
      "source": [
        "import os\n",
        "print(os.listdir(\"./data/cifar-10-batches-py\"))"
      ]
    },
    {
      "cell_type": "code",
      "execution_count": null,
      "metadata": {
        "colab": {
          "base_uri": "https://localhost:8080/",
          "height": 36
        },
        "id": "OvPw9n5gOLn1",
        "outputId": "f394313b-4891-42ed-b6d8-8da3abf57e38"
      },
      "outputs": [
        {
          "data": {
            "application/vnd.google.colaboratory.intrinsic+json": {
              "type": "string"
            },
            "text/plain": [
              "'cpu'"
            ]
          },
          "execution_count": 6,
          "metadata": {},
          "output_type": "execute_result"
        }
      ],
      "source": [
        "device = \"cuda\" if torch.cuda.is_available() else \"cpu\"\n",
        "device"
      ]
    },
    {
      "cell_type": "code",
      "execution_count": null,
      "metadata": {
        "id": "rUvIuyBHONnY"
      },
      "outputs": [],
      "source": [
        "def load_cifar10_data(filename):\n",
        "    with open('./data/cifar-10-batches-py/'+ filename, 'rb') as file:\n",
        "        batch = pickle.load(file, encoding='latin1')\n",
        "\n",
        "    features = batch['data']\n",
        "    labels = batch['labels']\n",
        "    return features, labels"
      ]
    },
    {
      "cell_type": "code",
      "execution_count": null,
      "metadata": {
        "id": "_wVq19jJPwY7"
      },
      "outputs": [],
      "source": [
        "batch_1, labels_1 = load_cifar10_data('data_batch_1')\n",
        "batch_2, labels_2 = load_cifar10_data('data_batch_2')\n",
        "batch_3, labels_3 = load_cifar10_data('data_batch_3')\n",
        "batch_4, labels_4 = load_cifar10_data('data_batch_4')\n",
        "batch_5, labels_5 = load_cifar10_data('data_batch_5')\n",
        "\n",
        "test, label_test = load_cifar10_data('test_batch')"
      ]
    },
    {
      "cell_type": "code",
      "execution_count": null,
      "metadata": {
        "id": "m8q3raJMP4fC"
      },
      "outputs": [],
      "source": [
        "X_train = np.concatenate([batch_1,batch_2,batch_3,batch_4,batch_5], 0)\n",
        "X_test=np.concatenate([test])\n",
        "Y_train = np.concatenate([labels_1,labels_2,labels_3,labels_4,labels_5], 0)\n",
        "Y_test=np.concatenate([label_test])"
      ]
    },
    {
      "cell_type": "code",
      "execution_count": null,
      "metadata": {
        "colab": {
          "base_uri": "https://localhost:8080/"
        },
        "id": "-jk4fMA0P8CL",
        "outputId": "e4ad2080-ae30-46f0-cc33-eb8a937a50d2"
      },
      "outputs": [
        {
          "name": "stdout",
          "output_type": "stream",
          "text": [
            "X_train shape: (50000, 3072)\n",
            "Y_train shape: (50000,)\n",
            "X_test shape: (10000, 3072)\n",
            "Y_test shape: (10000,)\n"
          ]
        }
      ],
      "source": [
        "print('X_train shape:', X_train.shape)\n",
        "print('Y_train shape:', Y_train.shape)\n",
        "print('X_test shape:', X_test.shape)\n",
        "print('Y_test shape:', Y_test.shape)"
      ]
    },
    {
      "cell_type": "code",
      "execution_count": null,
      "metadata": {
        "id": "yRnm4U4GQZNQ"
      },
      "outputs": [],
      "source": [
        "classes = ('airplane', 'car', 'bird', 'cat','deer', 'dog', 'frog', 'horse', 'ship', 'truck')\n",
        "def return_photo(batch_file):\n",
        "    assert batch_file.shape[1] == 3072\n",
        "    dim = np.sqrt(1024).astype(int)\n",
        "    r = batch_file[:, 0:1024].reshape(batch_file.shape[0], dim, dim, 1)\n",
        "    g = batch_file[:, 1024:2048].reshape(batch_file.shape[0], dim, dim, 1)\n",
        "    b = batch_file[:, 2048:3072].reshape(batch_file.shape[0], dim, dim, 1)\n",
        "    photo = np.concatenate([r,g,b], -1)\n",
        "    return photo"
      ]
    },
    {
      "cell_type": "code",
      "execution_count": null,
      "metadata": {
        "id": "PDBBjLcLRVtI"
      },
      "outputs": [],
      "source": [
        "X_train = return_photo(X_train)\n",
        "X_test = return_photo(test)\n",
        "Y_test = np.array(label_test)"
      ]
    },
    {
      "cell_type": "code",
      "execution_count": null,
      "metadata": {
        "colab": {
          "base_uri": "https://localhost:8080/"
        },
        "id": "dsKs_WyIShmQ",
        "outputId": "a974de2c-047d-4bf9-fc18-10ff1c17c4ae"
      },
      "outputs": [
        {
          "name": "stdout",
          "output_type": "stream",
          "text": [
            "X_train shape: (50000, 32, 32, 3)\n",
            "Y_train shape: (50000,)\n",
            "X_test shape: (10000, 32, 32, 3)\n",
            "Y_test shape: (10000,)\n"
          ]
        }
      ],
      "source": [
        "print('X_train shape:', X_train.shape)\n",
        "print('Y_train shape:', Y_train.shape)\n",
        "print('X_test shape:', X_test.shape)\n",
        "print('Y_test shape:', Y_test.shape)"
      ]
    },
    {
      "cell_type": "code",
      "execution_count": null,
      "metadata": {
        "colab": {
          "base_uri": "https://localhost:8080/",
          "height": 457
        },
        "id": "OsY53YE-QZpA",
        "outputId": "6ccab525-06b6-4a2a-9ce6-e141d5e6e397"
      },
      "outputs": [
        {
          "data": {
            "image/png": "[encoded data removed]",
            "text/plain": [
              "<Figure size 300x200 with 1 Axes>"
            ]
          },
          "metadata": {},
          "output_type": "display_data"
        },
        {
          "data": {
            "image/png": "[encoded data removed]",
            "text/plain": [
              "<Figure size 300x200 with 1 Axes>"
            ]
          },
          "metadata": {},
          "output_type": "display_data"
        }
      ],
      "source": [
        "def plot_image(number, file, label, pred=None):\n",
        "    fig = plt.figure(figsize = (3,2))\n",
        "    #img = return_photo(batch_file)\n",
        "    plt.imshow(file[number])\n",
        "    if pred is None:\n",
        "        plt.title(classes[label[number]])\n",
        "    else:\n",
        "        plt.title('Label_true: ' + classes[label[number]] + '\\nLabel_pred: ' + classes[pred[number]])\n",
        "\n",
        "plot_image(12345, X_train, Y_train)\n",
        "plot_image(1, X_train, Y_train)"
      ]
    },
    {
      "cell_type": "code",
      "execution_count": null,
      "metadata": {
        "id": "tho4IcH9GDf7"
      },
      "outputs": [],
      "source": [
        "mean=[0.485, 0.456, 0.406]\n",
        "std=[0.229, 0.224, 0.225]\n",
        "\n",
        "import torchvision.transforms as transforms\n",
        "def normalize_dataset(data):\n",
        "    mean = data.mean(axis=(0,1,2)) / 255.0\n",
        "    std = data.std(axis=(0,1,2)) / 255.0\n",
        "    normalize = transforms.Normalize(mean=mean, std=std)\n",
        "    return normalize\n",
        "\n",
        "def get_transform():\n",
        "    transform = transforms.Compose([\n",
        "        transforms.RandAugment(),\n",
        "        transforms.Resize((32, 32)),\n",
        "        transforms.ToTensor(),\n",
        "    ])\n",
        "    return transform\n",
        "\n",
        "def simple_transform():\n",
        "    transform = transforms.Compose([\n",
        "        transforms.Resize((32, 32)),\n",
        "        transforms.ToTensor(),\n",
        "    ])\n",
        "    return transform"
      ]
    },
    {
      "cell_type": "code",
      "execution_count": null,
      "metadata": {
        "id": "FhPQqWQjIwHY"
      },
      "outputs": [],
      "source": [
        "import torch\n",
        "import torchvision.transforms as transforms\n",
        "import random\n",
        "from torch.utils.data import Dataset\n",
        "from PIL import Image\n",
        "\n",
        "# define the random seed for reproducible result\n",
        "seed = 42\n",
        "torch.manual_seed(seed)\n",
        "np.random.seed(seed)\n",
        "random.seed(seed)\n",
        "\n",
        "\n",
        "class CIFAR10_from_array(Dataset):\n",
        "    def __init__(self, data, label, transform=None):\n",
        "\n",
        "        self.data = data\n",
        "        self.label = label\n",
        "        self.transform = transform\n",
        "        self.img_shape = data.shape\n",
        "\n",
        "    def __getitem__(self, index):\n",
        "\n",
        "        img = Image.fromarray(self.data[index])\n",
        "        label = self.label[index]\n",
        "        if self.transform is not None:\n",
        "            img = self.transform(img)\n",
        "        else:\n",
        "            img_to_tensor = transforms.ToTensor()\n",
        "            img = img_to_tensor(img)\n",
        "            #label = torch.from_numpy(label).long()\n",
        "        return img, label\n",
        "\n",
        "    def __len__(self):\n",
        "        return len(self.data)\n",
        "\n",
        "    def plot_image(self, number):\n",
        "        file = self.data\n",
        "        label = self.label\n",
        "        fig = plt.figure(figsize = (3,2))\n",
        "        #img = return_photo(batch_file)\n",
        "        plt.imshow(file[number])\n",
        "        plt.title(classes[label[number]])"
      ]
    },
    {
      "cell_type": "code",
      "execution_count": null,
      "metadata": {
        "id": "iyPj5VEQJbWs"
      },
      "outputs": [],
      "source": [
        "from sklearn.model_selection import train_test_split\n",
        "X_unlabelled, X_labelled, y_unlabelled, y_labelled = train_test_split(X_train, Y_train, test_size=0.2, random_state=1)"
      ]
    },
    {
      "cell_type": "code",
      "execution_count": null,
      "metadata": {
        "colab": {
          "background_save": true
        },
        "id": "fa7NOTsBR-Dm"
      },
      "outputs": [],
      "source": [
        "def normalize_dataset(data):\n",
        "    mean = data.mean(axis=(0,1,2)) / 255.0\n",
        "    std = data.std(axis=(0,1,2)) / 255.0\n",
        "    normalize = transforms.Normalize(mean=mean, std=std)\n",
        "    return normalize\n",
        "\n",
        "train_transform_aug = transforms.Compose([\n",
        "    transforms.Resize((40, 40)),\n",
        "    transforms.RandomCrop((32, 32)),\n",
        "    transforms.RandomHorizontalFlip(),\n",
        "    transforms.RandomRotation(15),\n",
        "    transforms.ToTensor(),\n",
        "    normalize_dataset(X_unlabelled)\n",
        "])\n",
        "\n",
        "val_transform = transforms.Compose([\n",
        "    transforms.ToTensor(),\n",
        "    normalize_dataset(X_labelled)\n",
        "])\n",
        "\n",
        "test_transform = transforms.Compose([\n",
        "    transforms.ToTensor(),\n",
        "    normalize_dataset(X_test)\n",
        "])\n",
        "\n",
        "unlabelled_trainset = CIFAR10_from_array(data=X_unlabelled, label=y_unlabelled, transform=train_transform_aug)\n",
        "unlabelled_trainset_aug = CIFAR10_from_array(data=X_unlabelled, label=y_unlabelled, transform=val_transform)\n",
        "labelled_trainset = CIFAR10_from_array(data=X_labelled, label=y_labelled, transform=val_transform)\n",
        "testset = CIFAR10_from_array(data=X_test, label=Y_test, transform=test_transform)"
      ]
    },
    {
      "cell_type": "code",
      "execution_count": null,
      "metadata": {
        "colab": {
          "background_save": true
        },
        "id": "OpmEnqgiSljf",
        "outputId": "182c3a27-52d7-4d70-9945-1b8dfb3f1d05"
      },
      "outputs": [
        {
          "name": "stdout",
          "output_type": "stream",
          "text": [
            "training set:       (40000, 32, 32, 3)\n",
            "validation set:     (10000, 32, 32, 3)\n",
            "testing set:        (10000, 32, 32, 3)\n",
            "label numbers:      10\n"
          ]
        }
      ],
      "source": [
        "print('training set:'.ljust(20) + '{}'.format(unlabelled_trainset.img_shape))\n",
        "print('validation set:'.ljust(20) + '{}'.format(labelled_trainset.img_shape))\n",
        "print('testing set:'.ljust(20) + '{}'.format(testset.img_shape))\n",
        "print('label numbers:'.ljust(20) + '{}'.format(len(set(labelled_trainset.label))))"
      ]
    },
    {
      "cell_type": "code",
      "execution_count": null,
      "metadata": {
        "colab": {
          "background_save": true
        },
        "id": "9RDlKPIOSzL6"
      },
      "outputs": [],
      "source": [
        "from torch.utils.data import DataLoader\n",
        "\n",
        "batch_size = 32\n",
        "num_workers = 1\n",
        "\n",
        "unlabelled_train_loader = DataLoader(dataset=unlabelled_trainset,batch_size=batch_size, shuffle=True,num_workers=num_workers)\n",
        "unlabelled_train_loader_aug = DataLoader(dataset=unlabelled_trainset_aug,batch_size=batch_size, shuffle=True,num_workers=num_workers)\n",
        "labelled_train_loader = DataLoader(dataset=labelled_trainset,batch_size=batch_size, shuffle=False,num_workers=num_workers)\n",
        "test_loader = DataLoader(dataset=testset,batch_size=batch_size, shuffle=False,num_workers=num_workers)"
      ]
    },
    {
      "cell_type": "code",
      "execution_count": null,
      "metadata": {
        "colab": {
          "background_save": true
        },
        "id": "T1MKfPFKTZs3"
      },
      "outputs": [],
      "source": [
        "unlabelled_iterable = iter(unlabelled_train_loader)\n",
        "unlabelled_iterable_aug = iter(unlabelled_train_loader_aug)\n",
        "labelled_iterable = iter(labelled_train_loader)\n",
        "test_iterable = iter(test_loader)\n",
        "# imgs, lbls = next(unlabelled_iterable)\n",
        "# print ('Size of image:', imgs.size())\n",
        "# print ('Type of image:', imgs.dtype)\n",
        "# print ('Size of label:', lbls.size())\n",
        "# print ('Type of label:', lbls.dtype)"
      ]
    },
    {
      "cell_type": "code",
      "execution_count": null,
      "metadata": {
        "colab": {
          "background_save": true
        },
        "id": "UJWn0fPsUqNp",
        "outputId": "deddbe1f-01d9-4b6d-8d2b-8e8c6291b8f0"
      },
      "outputs": [
        {
          "name": "stdout",
          "output_type": "stream",
          "text": [
            "| Wide-Resnet 28x10\n",
            "torch.Size([1, 10])\n"
          ]
        }
      ],
      "source": [
        "import torch\n",
        "import torch.nn as nn\n",
        "import torch.nn.init as init\n",
        "import torch.nn.functional as F\n",
        "from torch.autograd import Variable\n",
        "\n",
        "import sys\n",
        "import numpy as np\n",
        "\n",
        "def conv3x3(in_planes, out_planes, stride=1):\n",
        "    return nn.Conv2d(in_planes, out_planes, kernel_size=3, stride=stride, padding=1, bias=True)\n",
        "\n",
        "def conv_init(m):\n",
        "    classname = m.__class__.__name__\n",
        "    if classname.find('Conv') != -1:\n",
        "        init.xavier_uniform_(m.weight, gain=np.sqrt(2))\n",
        "        init.constant_(m.bias, 0)\n",
        "    elif classname.find('BatchNorm') != -1:\n",
        "        init.constant_(m.weight, 1)\n",
        "        init.constant_(m.bias, 0)\n",
        "\n",
        "class wide_basic(nn.Module):\n",
        "    def __init__(self, in_planes, planes, dropout_rate, stride=1):\n",
        "        super(wide_basic, self).__init__()\n",
        "        self.bn1 = nn.BatchNorm2d(in_planes)\n",
        "        self.conv1 = nn.Conv2d(in_planes, planes, kernel_size=3, padding=1, bias=True)\n",
        "        self.dropout = nn.Dropout(p=dropout_rate)\n",
        "        self.bn2 = nn.BatchNorm2d(planes)\n",
        "        self.conv2 = nn.Conv2d(planes, planes, kernel_size=3, stride=stride, padding=1, bias=True)\n",
        "\n",
        "        self.shortcut = nn.Sequential()\n",
        "        if stride != 1 or in_planes != planes:\n",
        "            self.shortcut = nn.Sequential(\n",
        "                nn.Conv2d(in_planes, planes, kernel_size=1, stride=stride, bias=True),\n",
        "            )\n",
        "\n",
        "    def forward(self, x):\n",
        "        out = self.dropout(self.conv1(F.relu(self.bn1(x))))\n",
        "        out = self.conv2(F.relu(self.bn2(out)))\n",
        "        out += self.shortcut(x)\n",
        "\n",
        "        return out\n",
        "\n",
        "class Wide_ResNet(nn.Module):\n",
        "    def __init__(self, depth, widen_factor, dropout_rate, num_classes):\n",
        "        super(Wide_ResNet, self).__init__()\n",
        "        self.in_planes = 16\n",
        "\n",
        "        assert ((depth-4)%6 ==0), 'Wide-resnet depth should be 6n+4'\n",
        "        n = (depth-4)/6\n",
        "        k = widen_factor\n",
        "\n",
        "        print('| Wide-Resnet %dx%d' %(depth, k))\n",
        "        nStages = [16, 16*k, 32*k, 64*k]\n",
        "\n",
        "        self.conv1 = conv3x3(3,nStages[0])\n",
        "        self.layer1 = self._wide_layer(wide_basic, nStages[1], n, dropout_rate, stride=1)\n",
        "        self.layer2 = self._wide_layer(wide_basic, nStages[2], n, dropout_rate, stride=2)\n",
        "        self.layer3 = self._wide_layer(wide_basic, nStages[3], n, dropout_rate, stride=2)\n",
        "        self.bn1 = nn.BatchNorm2d(nStages[3], momentum=0.9)\n",
        "        self.linear = nn.Linear(nStages[3], num_classes)\n",
        "\n",
        "    def _wide_layer(self, block, planes, num_blocks, dropout_rate, stride):\n",
        "        strides = [stride] + [1]*(int(num_blocks)-1)\n",
        "        layers = []\n",
        "\n",
        "        for stride in strides:\n",
        "            layers.append(block(self.in_planes, planes, dropout_rate, stride))\n",
        "            self.in_planes = planes\n",
        "\n",
        "        return nn.Sequential(*layers)\n",
        "\n",
        "    def forward(self, x):\n",
        "        out = self.conv1(x)\n",
        "        out = self.layer1(out)\n",
        "        out = self.layer2(out)\n",
        "        out = self.layer3(out)\n",
        "        out = F.relu(self.bn1(out))\n",
        "        out = F.avg_pool2d(out, 8)\n",
        "        out = out.view(out.size(0), -1)\n",
        "        out = self.linear(out)\n",
        "\n",
        "        return out\n",
        "\n",
        "if __name__ == '__main__':\n",
        "    net=Wide_ResNet(28, 10, 0.3, 10)\n",
        "    y = net(Variable(torch.randn(1,3,32,32)))\n",
        "\n",
        "    print(y.size())\n"
      ]
    },
    {
      "cell_type": "code",
      "execution_count": null,
      "metadata": {
        "colab": {
          "background_save": true
        },
        "id": "_N627gEyU3ny",
        "outputId": "7da75c1a-0cce-471f-a15e-d101f9dedc3c"
      },
      "outputs": [
        {
          "name": "stdout",
          "output_type": "stream",
          "text": [
            "| Wide-Resnet 28x2\n"
          ]
        }
      ],
      "source": [
        "model = Wide_ResNet(28,2,0.3,10).to(device)"
      ]
    },
    {
      "cell_type": "code",
      "execution_count": null,
      "metadata": {
        "colab": {
          "background_save": true
        },
        "id": "RkOFWGO4WZd8"
      },
      "outputs": [],
      "source": [
        "def accuracy_fn(y_true, y_pred):\n",
        "    correct = torch.eq(y_true.to(device), y_pred.to(device)).sum().item()\n",
        "    acc = (correct / len(y_pred)) * 100\n",
        "    return acc\n",
        "\n",
        "criterion = nn.CrossEntropyLoss()\n",
        "optimizer = torch.optim.SGD(model.parameters(), lr=0.01)\n",
        "beta_0 = 8"
      ]
    },
    {
      "cell_type": "code",
      "execution_count": null,
      "metadata": {
        "id": "Dz7P1i2DlAO2"
      },
      "outputs": [],
      "source": [
        "import torch.optim as optim\n",
        "acc=0\n",
        "\n",
        "EPOCHS = 100\n",
        "for epoch in range(EPOCHS):\n",
        "  model.train()\n",
        "  for epoch in range(len(unlabelled_train_loader)):\n",
        "    labeled_images, labels = next(labelled_iterable)\n",
        "    unlabeled_images,donttake = next(unlabelled_iterable)\n",
        "    unlabeled_images_aug,donttake_aug = next(unlabelled_iterable_aug)\n",
        "\n",
        "    pseudo_labels = torch.argmax(torch.softmax(model(unlabeled_images.to(device)), dim=1), dim=1).to(device)\n",
        "\n",
        "    optimizer.zero_grad()\n",
        "\n",
        "    unlabeled_logits_aug = model(unlabeled_images_aug.to(device)).to(device)\n",
        "    unlabeled_logits = model(unlabeled_images.to(device)).to(device)\n",
        "    labeled_logits = model(labeled_images.to(device)).to(device)\n",
        "\n",
        "    loss_1 = nn.CrossEntropyLoss()(unlabeled_logits_aug, pseudo_labels)\n",
        "    loss_labelled_1 = nn.CrossEntropyLoss()(labeled_logits.to(device), labels.to(device)).to(device)\n",
        "\n",
        "    (loss_1).backward()\n",
        "    optimizer.step()\n",
        "\n",
        "    new_labeled_logits = model(labeled_images.to(device)).to(device)\n",
        "    loss_labelled_2 = nn.CrossEntropyLoss()(new_labeled_logits, labels.to(device)).to(device)\n",
        "\n",
        "    new_unlabeled_logits = model(unlabeled_images.to(device)).to(device)\n",
        "    new_unlabeled_logits_aug = model(unlabeled_images_aug.to(device)).to(device)\n",
        "\n",
        "    with torch.no_grad():\n",
        "        pseudo_labels_unlabeled = torch.softmax(model(unlabeled_images.to(device)).to(device), dim=1)\n",
        "\n",
        "    beta_k = beta_0 * torch.min(torch.tensor(1,dtype=torch.float32), ((epoch + torch.tensor(1,dtype=torch.float32)) /torch.tensor(8,dtype=torch.float32)))\n",
        "\n",
        "    mask, dontcare = torch.max(torch.softmax(new_unlabeled_logits_aug, dim=1), dim=1)\n",
        "\n",
        "    loss_partial = beta_k * torch.mean(torch.sum(-(torch.softmax(new_unlabeled_logits, dim=1)) * torch.log(torch.softmax(new_unlabeled_logits_aug, dim=1)), dim=-1) * mask)\n",
        "\n",
        "    loss_uda = loss_labelled_2 + loss_partial\n",
        "\n",
        "    with torch.no_grad():\n",
        "        new_pseudo_labels = torch.argmax(torch.softmax(new_unlabeled_logits, dim=1), dim=1).to(device)\n",
        "\n",
        "    new_loss = loss_labelled_2.item()\n",
        "    old_loss = loss_labelled_1.item()\n",
        "    change = new_loss - old_loss\n",
        "    loss_mpl = ((change) * (nn.CrossEntropyLoss()(new_unlabeled_logits, new_pseudo_labels)))\n",
        "\n",
        "    loss_2 = loss_uda + loss_mpl\n",
        "    (loss_2).backward()\n",
        "    optimizer.step()\n",
        "\n",
        "\n",
        "  model.eval()\n",
        "\n",
        "  for batch in range(len(test_loader)):\n",
        "      test_images, test_labels = next(test_iterable)\n",
        "\n",
        "      test_logits = model(test_images.to(device))\n",
        "      pred_labels = torch.argmax(torch.softmax(test_logits, dim=1).to(device), dim=1).to(device)\n",
        "      acc += accuracy_fn(test_labels, pred_labels)\n",
        "\n",
        "  print(\"Accuracy per epoch :\", acc / len(test_loader))\n",
        "\n",
        "\n"
      ]
    },
    {
      "cell_type": "code",
      "execution_count": null,
      "metadata": {
        "id": "qy_YvOfRpch_"
      },
      "outputs": [],
      "source": [
        "def evaluate_model(model, test_loader, criterion, device):\n",
        "  acc=0\n",
        "  torch.manual_seed(43)\n",
        "  test_batches = iter(test_loader)\n",
        "  torch.manual_seed(43)\n",
        "  labeled_batches = iter(labelled_trainset)\n",
        "  model.eval()\n",
        "  for _ in range(len(test_loader)):\n",
        "    try:\n",
        "        test_images, test_labels = next(test_batches)\n",
        "    except StopIteration:\n",
        "        test_batches = iter(test_loader)\n",
        "        test_images, test_labels = next(test_batches)\n",
        "\n",
        "    test_logits = model(test_images.to(device))\n",
        "    pred_labels = torch.argmax(torch.softmax(test_logits,dim=1).to(device),dim=1).to(device)\n",
        "    acc += accuracy_fn(test_labels, pred_labels)\n",
        "\n",
        "  print(\"Accuracy per epoch :\", acc/len(test_loader))"
      ]
    },
    {
      "cell_type": "code",
      "execution_count": null,
      "metadata": {
        "id": "gePdBN3wlg9U"
      },
      "outputs": [],
      "source": [
        "evaluate_model(model, test_loader, criterion, device)"
      ]
    }
  ],
  "metadata": {
    "colab": {
      "provenance": []
    },
    "kernelspec": {
      "display_name": "Python 3",
      "name": "python3"
    },
    "language_info": {
      "name": "python"
    }
  },
  "nbformat": 4,
  "nbformat_minor": 0
}